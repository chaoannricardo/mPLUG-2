{
 "cells": [
  {
   "cell_type": "code",
   "execution_count": 17,
   "metadata": {},
   "outputs": [
    {
     "name": "stderr",
     "output_type": "stream",
     "text": [
      "  0%|          | 0/7010 [00:00<?, ?it/s]\n"
     ]
    }
   ],
   "source": [
    "PATH_DATASET = \"/Users/ricardo/Code/datasets/MSR-VTT/Result/caption.json\"\n",
    "PATH_OUTPUT = \"/Users/ricardo/Code/datasets/MSR-VTT/ResultNew/caption.json\"\n",
    "\n",
    "import json\n",
    "from tqdm import tqdm\n",
    "\n",
    "f = open(PATH_DATASET)\n",
    "\n",
    "json_data = json.load(f)\n",
    "\n",
    "f.close()\n",
    "\n",
    "json_data\n",
    "\n",
    "lst_output = []\n",
    "\n",
    "for key in tqdm(json_data.keys()):\n",
    "\n",
    "    lst_captions = json_data[key]['captions']\n",
    "\n",
    "    # lst_output.append(\n",
    "    #     {\n",
    "    #         'video_id': int(key),\n",
    "    #         'caption': lst_captions[0]\n",
    "    #     }\n",
    "    # )\n",
    "\n",
    "    lst_output =  {\n",
    "            'video_id': int(key),\n",
    "            'caption': lst_captions[0]\n",
    "        }\n",
    "\n",
    "    break\n",
    "\n",
    "with open(PATH_OUTPUT, mode='w', encoding='utf8') as f:\n",
    "    json.dump(lst_output, f)\n",
    "    \n",
    "    \n",
    "\n"
   ]
  }
 ],
 "metadata": {
  "kernelspec": {
   "display_name": "normal",
   "language": "python",
   "name": "python3"
  },
  "language_info": {
   "codemirror_mode": {
    "name": "ipython",
    "version": 3
   },
   "file_extension": ".py",
   "mimetype": "text/x-python",
   "name": "python",
   "nbconvert_exporter": "python",
   "pygments_lexer": "ipython3",
   "version": "3.11.4"
  },
  "orig_nbformat": 4
 },
 "nbformat": 4,
 "nbformat_minor": 2
}
